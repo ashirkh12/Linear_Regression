{
 "cells": [
  {
   "cell_type": "code",
   "execution_count": 4,
   "id": "5bdd9b5a",
   "metadata": {},
   "outputs": [],
   "source": [
    "import numpy as np #numpy is a module that helps you manage numerical calculations\n",
    "import matplotlib.pyplot as plt #matplotlib helps to plotting of graphs and charts in python\n",
    "from sklearn.linear_model import LinearRegression"
   ]
  },
  {
   "cell_type": "code",
   "execution_count": 5,
   "id": "d565a730",
   "metadata": {},
   "outputs": [],
   "source": [
    "x=np.array([3.1,3.2,3.7,4.3,4,5.5,6.7,7.1,7.4,10.6])\n",
    "y=np.array([98.1,94.7,92,89.8,87.5,85,82,77.8,72.1,53.5])"
   ]
  },
  {
   "cell_type": "code",
   "execution_count": 6,
   "id": "8ce45a5e",
   "metadata": {},
   "outputs": [],
   "source": [
    "linreg = LinearRegression() #LinearRegression Object"
   ]
  },
  {
   "cell_type": "code",
   "execution_count": 7,
   "id": "56ab08f1",
   "metadata": {},
   "outputs": [],
   "source": [
    "x = x.reshape(-1,1) #pre-processing helps to reduce the variability between the values of the data"
   ]
  },
  {
   "cell_type": "code",
   "execution_count": 8,
   "id": "e949ed3e",
   "metadata": {},
   "outputs": [
    {
     "data": {
      "text/plain": [
       "LinearRegression()"
      ]
     },
     "execution_count": 8,
     "metadata": {},
     "output_type": "execute_result"
    }
   ],
   "source": [
    "linreg.fit(x,y)"
   ]
  },
  {
   "cell_type": "code",
   "execution_count": 9,
   "id": "931f6eee",
   "metadata": {},
   "outputs": [],
   "source": [
    "y_pred= linreg.predict(x)"
   ]
  },
  {
   "cell_type": "code",
   "execution_count": 22,
   "id": "117c3146",
   "metadata": {},
   "outputs": [
    {
     "data": {
      "image/png": "[encoded data removed]",
      "text/plain": [
       "<Figure size 432x288 with 1 Axes>"
      ]
     },
     "metadata": {
      "needs_background": "light"
     },
     "output_type": "display_data"
    }
   ],
   "source": [
    "plt.scatter(x,y)\n",
    "plt.plot(x,y_pred, color=\"green\")\n",
    "plt.xlabel('trestbps (mm Hg)')\n",
    "plt.ylabel('chol (mg/dl)')\n",
    "plt.text(3,60,\"oopsy! yet failed again\")\n",
    "plt.show()"
   ]
  },
  {
   "cell_type": "code",
   "execution_count": 16,
   "id": "9c0222bf",
   "metadata": {},
   "outputs": [
    {
     "name": "stdout",
     "output_type": "stream",
     "text": [
      "[-5.33492359]\n"
     ]
    }
   ],
   "source": [
    "print(linreg.coef_)"
   ]
  },
  {
   "cell_type": "code",
   "execution_count": 17,
   "id": "a6057baf",
   "metadata": {},
   "outputs": [
    {
     "name": "stdout",
     "output_type": "stream",
     "text": [
      "112.91217516096502\n"
     ]
    }
   ],
   "source": [
    "print(linreg.intercept_)"
   ]
  },
  {
   "cell_type": "code",
   "execution_count": 14,
   "id": "206d1080",
   "metadata": {},
   "outputs": [],
   "source": [
    "# y= mx + c\n",
    "# y= (0.78)x + 136.8  --equation of this data set"
   ]
  }
 ],
 "metadata": {
  "kernelspec": {
   "display_name": "Python 3 (ipykernel)",
   "language": "python",
   "name": "python3"
  },
  "language_info": {
   "codemirror_mode": {
    "name": "ipython",
    "version": 3
   },
   "file_extension": ".py",
   "mimetype": "text/x-python",
   "name": "python",
   "nbconvert_exporter": "python",
   "pygments_lexer": "ipython3",
   "version": "3.9.7"
  }
 },
 "nbformat": 4,
 "nbformat_minor": 5
}
